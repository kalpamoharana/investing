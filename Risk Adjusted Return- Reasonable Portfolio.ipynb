{
 "cells": [
  {
   "cell_type": "code",
   "execution_count": 14,
   "metadata": {
    "scrolled": true
   },
   "outputs": [],
   "source": [
    "import numpy as np\n",
    "import pandas as pd\n",
    "import pandas_datareader as web\n",
    "from datetime import datetime\n",
    "from pandas_datareader._utils import RemoteDataError\n",
    "import requests\n",
    "import json\n",
    "import yfinance as yf"
   ]
  },
  {
   "cell_type": "code",
   "execution_count": 15,
   "metadata": {},
   "outputs": [
    {
     "data": {
      "text/html": [
       "<div>\n",
       "<style scoped>\n",
       "    .dataframe tbody tr th:only-of-type {\n",
       "        vertical-align: middle;\n",
       "    }\n",
       "\n",
       "    .dataframe tbody tr th {\n",
       "        vertical-align: top;\n",
       "    }\n",
       "\n",
       "    .dataframe thead th {\n",
       "        text-align: right;\n",
       "    }\n",
       "</style>\n",
       "<table border=\"1\" class=\"dataframe\">\n",
       "  <thead>\n",
       "    <tr style=\"text-align: right;\">\n",
       "      <th></th>\n",
       "      <th>Symbol</th>\n",
       "    </tr>\n",
       "  </thead>\n",
       "  <tbody>\n",
       "    <tr>\n",
       "      <th>0</th>\n",
       "      <td>NESTLEIND.NS</td>\n",
       "    </tr>\n",
       "    <tr>\n",
       "      <th>1</th>\n",
       "      <td>ICICIBANK.NS</td>\n",
       "    </tr>\n",
       "    <tr>\n",
       "      <th>2</th>\n",
       "      <td>ASIANPAINT.NS</td>\n",
       "    </tr>\n",
       "    <tr>\n",
       "      <th>3</th>\n",
       "      <td>DMART.NS</td>\n",
       "    </tr>\n",
       "    <tr>\n",
       "      <th>4</th>\n",
       "      <td>BATAINDIA.NS</td>\n",
       "    </tr>\n",
       "  </tbody>\n",
       "</table>\n",
       "</div>"
      ],
      "text/plain": [
       "          Symbol\n",
       "0   NESTLEIND.NS\n",
       "1   ICICIBANK.NS\n",
       "2  ASIANPAINT.NS\n",
       "3       DMART.NS\n",
       "4   BATAINDIA.NS"
      ]
     },
     "execution_count": 15,
     "metadata": {},
     "output_type": "execute_result"
    }
   ],
   "source": [
    "data=pd.read_csv(\"C:\\\\Users\\\\Kalpa\\\\Documents\\\\PythonFiles\\\\Stocklist.csv\")\n",
    "#data=pd.read_csv(\"C:\\\\Users\\\\Kalpa\\\\Documents\\\\PythonFiles\\\\finalcountdown.csv\")\n",
    "#data=pd.read_csv(\"C:\\\\Users\\\\Kalpa\\\\Documents\\\\PythonFiles\\\\Megacap.csv\")\n",
    "data.head()\n",
    "#end = datetime.today()\n",
    "#start = datetime(end.year -5, end.month, end.day)\n",
    "#print(start)"
   ]
  },
  {
   "cell_type": "code",
   "execution_count": 16,
   "metadata": {},
   "outputs": [],
   "source": [
    "# Pull stock data from Yahoo finance \n",
    "\n",
    "for i in range (len(data)):\n",
    " \n",
    "    stock = web.DataReader(data.loc[i,\"Symbol\"],data_source='yahoo',start='13/4/2015', end='28/4/2020')\n",
    "    detail=yf.Ticker(data.loc[i,\"Symbol\"])\n",
    "    stock['Log_Ret'] = np.log(stock['Close'] / stock['Close'].shift(1))\n",
    "    stock['Volatility1yr']=stock['Log_Ret'].rolling(252).std()\n",
    "    stock['Volatility3yr']=stock['Log_Ret'].rolling(756).std()\n",
    "    stock['1yrAvgRet']=stock['Log_Ret'].rolling(252).mean()\n",
    "    stock['3yrAvgRet']=stock['Log_Ret'].rolling(756).mean()\n",
    "    #Dividend Data\n",
    "    df=detail.get_dividends().to_frame()\n",
    "    #populate data\n",
    "    data.loc[i,\"1yrAvgRet\"]=stock['1yrAvgRet'][-1]\n",
    "    data.loc[i,\"3yrAvgRet\"]=stock['3yrAvgRet'][-1]\n",
    "    data.loc[i,\"1yrDivRet\"]=(1/252)*(df[df.index>\"2019\"].sum()/stock['Close'][-252 if len(stock['Close'])>252 else -len(stock['Close'])])[0]\n",
    "    data.loc[i,\"3yrDivRet\"]=(1/756)*(df[df.index>\"2017\"].sum()/stock['Close'][-756 if len(stock['Close'])>756 else -len(stock['Close'])])[0]\n",
    "    data.loc[i,\"1yrSharpe\"]=((stock['1yrAvgRet'][-1]+data.loc[i,\"1yrDivRet\"])/stock['Volatility1yr'][-1])*np.sqrt(252)\n",
    "    data.loc[i,\"3yrSharpe\"]=((stock['3yrAvgRet'][-1]+data.loc[i,\"3yrDivRet\"])/stock['Volatility3yr'][-1])*np.sqrt(252)\n",
    "    #format in percentage and annualize\n",
    "    data.loc[i,\"1yrAvgRet\"]=\"{:.2f}%\".format(data.loc[i,\"1yrAvgRet\"]*100*252)\n",
    "    data.loc[i,\"3yrAvgRet\"]=\"{:.2f}%\".format(data.loc[i,\"3yrAvgRet\"]*100*252)\n",
    "    data.loc[i,\"1yrDivRet\"]=\"{:.2f}%\".format(data.loc[i,\"1yrDivRet\"]*100*252)\n",
    "    data.loc[i,\"3yrDivRet\"]=\"{:.2f}%\".format(data.loc[i,\"3yrDivRet\"]*100*252)"
   ]
  },
  {
   "cell_type": "code",
   "execution_count": 17,
   "metadata": {
    "scrolled": true
   },
   "outputs": [
    {
     "data": {
      "text/html": [
       "<div>\n",
       "<style scoped>\n",
       "    .dataframe tbody tr th:only-of-type {\n",
       "        vertical-align: middle;\n",
       "    }\n",
       "\n",
       "    .dataframe tbody tr th {\n",
       "        vertical-align: top;\n",
       "    }\n",
       "\n",
       "    .dataframe thead th {\n",
       "        text-align: right;\n",
       "    }\n",
       "</style>\n",
       "<table border=\"1\" class=\"dataframe\">\n",
       "  <thead>\n",
       "    <tr style=\"text-align: right;\">\n",
       "      <th></th>\n",
       "      <th>Symbol</th>\n",
       "      <th>1yrAvgRet</th>\n",
       "      <th>3yrAvgRet</th>\n",
       "      <th>1yrDivRet</th>\n",
       "      <th>3yrDivRet</th>\n",
       "      <th>1yrSharpe</th>\n",
       "      <th>3yrSharpe</th>\n",
       "    </tr>\n",
       "  </thead>\n",
       "  <tbody>\n",
       "    <tr>\n",
       "      <th>0</th>\n",
       "      <td>NESTLEIND.NS</td>\n",
       "      <td>49.00%</td>\n",
       "      <td>33.14%</td>\n",
       "      <td>1.38%</td>\n",
       "      <td>1.91%</td>\n",
       "      <td>1.570001</td>\n",
       "      <td>1.352641</td>\n",
       "    </tr>\n",
       "    <tr>\n",
       "      <th>1</th>\n",
       "      <td>DMART.NS</td>\n",
       "      <td>44.84%</td>\n",
       "      <td>43.31%</td>\n",
       "      <td>0.00%</td>\n",
       "      <td>0.00%</td>\n",
       "      <td>1.174167</td>\n",
       "      <td>1.221533</td>\n",
       "    </tr>\n",
       "    <tr>\n",
       "      <th>2</th>\n",
       "      <td>ASIANPAINT.NS</td>\n",
       "      <td>24.84%</td>\n",
       "      <td>18.17%</td>\n",
       "      <td>1.26%</td>\n",
       "      <td>1.10%</td>\n",
       "      <td>0.806741</td>\n",
       "      <td>0.761505</td>\n",
       "    </tr>\n",
       "    <tr>\n",
       "      <th>3</th>\n",
       "      <td>RELIANCE.NS</td>\n",
       "      <td>5.86%</td>\n",
       "      <td>27.66%</td>\n",
       "      <td>0.48%</td>\n",
       "      <td>1.25%</td>\n",
       "      <td>0.143769</td>\n",
       "      <td>0.884925</td>\n",
       "    </tr>\n",
       "  </tbody>\n",
       "</table>\n",
       "</div>"
      ],
      "text/plain": [
       "          Symbol 1yrAvgRet 3yrAvgRet 1yrDivRet 3yrDivRet  1yrSharpe  3yrSharpe\n",
       "0   NESTLEIND.NS    49.00%    33.14%     1.38%     1.91%   1.570001   1.352641\n",
       "1       DMART.NS    44.84%    43.31%     0.00%     0.00%   1.174167   1.221533\n",
       "2  ASIANPAINT.NS    24.84%    18.17%     1.26%     1.10%   0.806741   0.761505\n",
       "3    RELIANCE.NS     5.86%    27.66%     0.48%     1.25%   0.143769   0.884925"
      ]
     },
     "execution_count": 17,
     "metadata": {},
     "output_type": "execute_result"
    }
   ],
   "source": [
    "    # Compute Volatility using the pandas rolling standard deviation function\n",
    "#stock['Volatility']=stock['Log_Ret'].rolling(252).std()\n",
    "#data.to_csv(\"C:\\\\Users\\\\Kalpa\\\\Documents\\\\PythonFiles\\\\book.csv\")\n",
    "k1=pd.merge(data.nlargest(30,'1yrSharpe'),data.nlargest(30,'3yrSharpe')['Symbol'],on='Symbol')\n",
    "k2=data[data['1yrAvgRet']>data['3yrAvgRet']]\n",
    "pd.merge(k1,k2['Symbol'],on='Symbol')"
   ]
  },
  {
   "cell_type": "code",
   "execution_count": 18,
   "metadata": {},
   "outputs": [],
   "source": [
    "# Plot the stock Price series and the Volatility\n",
    "#stock[['Close', 'Volatility']].plot(subplots=True, color='blue',figsize=(8, 6))"
   ]
  },
  {
   "cell_type": "code",
   "execution_count": 19,
   "metadata": {},
   "outputs": [],
   "source": [
    "#\"{:.2%}\".format(oneyrreturn)\n",
    "#(oneyrreturn)/stock['Volatility'][-1]\n",
    "highlow=np.min(stock[stock.index>\"2019\"][\"Close\"])/np.min(stock[(stock.index>\"2017\") & (stock.index<\"2018\")][\"Close\"])-1\n"
   ]
  },
  {
   "cell_type": "code",
   "execution_count": 20,
   "metadata": {},
   "outputs": [
    {
     "data": {
      "text/plain": [
       "6"
      ]
     },
     "execution_count": 20,
     "metadata": {},
     "output_type": "execute_result"
    }
   ],
   "source": [
    "i"
   ]
  },
  {
   "cell_type": "code",
   "execution_count": 21,
   "metadata": {},
   "outputs": [
    {
     "data": {
      "text/html": [
       "<div>\n",
       "<style scoped>\n",
       "    .dataframe tbody tr th:only-of-type {\n",
       "        vertical-align: middle;\n",
       "    }\n",
       "\n",
       "    .dataframe tbody tr th {\n",
       "        vertical-align: top;\n",
       "    }\n",
       "\n",
       "    .dataframe thead th {\n",
       "        text-align: right;\n",
       "    }\n",
       "</style>\n",
       "<table border=\"1\" class=\"dataframe\">\n",
       "  <thead>\n",
       "    <tr style=\"text-align: right;\">\n",
       "      <th></th>\n",
       "      <th>Symbol</th>\n",
       "      <th>1yrAvgRet</th>\n",
       "      <th>3yrAvgRet</th>\n",
       "      <th>1yrDivRet</th>\n",
       "      <th>3yrDivRet</th>\n",
       "      <th>1yrSharpe</th>\n",
       "      <th>3yrSharpe</th>\n",
       "    </tr>\n",
       "  </thead>\n",
       "  <tbody>\n",
       "    <tr>\n",
       "      <th>0</th>\n",
       "      <td>NESTLEIND.NS</td>\n",
       "      <td>49.00%</td>\n",
       "      <td>33.14%</td>\n",
       "      <td>1.38%</td>\n",
       "      <td>1.91%</td>\n",
       "      <td>1.570001</td>\n",
       "      <td>1.352641</td>\n",
       "    </tr>\n",
       "    <tr>\n",
       "      <th>2</th>\n",
       "      <td>ASIANPAINT.NS</td>\n",
       "      <td>24.84%</td>\n",
       "      <td>18.17%</td>\n",
       "      <td>1.26%</td>\n",
       "      <td>1.10%</td>\n",
       "      <td>0.806741</td>\n",
       "      <td>0.761505</td>\n",
       "    </tr>\n",
       "    <tr>\n",
       "      <th>3</th>\n",
       "      <td>DMART.NS</td>\n",
       "      <td>44.84%</td>\n",
       "      <td>43.31%</td>\n",
       "      <td>0.00%</td>\n",
       "      <td>0.00%</td>\n",
       "      <td>1.174167</td>\n",
       "      <td>1.221533</td>\n",
       "    </tr>\n",
       "    <tr>\n",
       "      <th>6</th>\n",
       "      <td>RELIANCE.NS</td>\n",
       "      <td>5.86%</td>\n",
       "      <td>27.66%</td>\n",
       "      <td>0.48%</td>\n",
       "      <td>1.25%</td>\n",
       "      <td>0.143769</td>\n",
       "      <td>0.884925</td>\n",
       "    </tr>\n",
       "  </tbody>\n",
       "</table>\n",
       "</div>"
      ],
      "text/plain": [
       "          Symbol 1yrAvgRet 3yrAvgRet 1yrDivRet 3yrDivRet  1yrSharpe  3yrSharpe\n",
       "0   NESTLEIND.NS    49.00%    33.14%     1.38%     1.91%   1.570001   1.352641\n",
       "2  ASIANPAINT.NS    24.84%    18.17%     1.26%     1.10%   0.806741   0.761505\n",
       "3       DMART.NS    44.84%    43.31%     0.00%     0.00%   1.174167   1.221533\n",
       "6    RELIANCE.NS     5.86%    27.66%     0.48%     1.25%   0.143769   0.884925"
      ]
     },
     "execution_count": 21,
     "metadata": {},
     "output_type": "execute_result"
    }
   ],
   "source": [
    "data[data['1yrAvgRet']>data['3yrAvgRet']]"
   ]
  },
  {
   "cell_type": "code",
   "execution_count": null,
   "metadata": {},
   "outputs": [],
   "source": []
  }
 ],
 "metadata": {
  "kernelspec": {
   "display_name": "Python 3",
   "language": "python",
   "name": "python3"
  },
  "language_info": {
   "codemirror_mode": {
    "name": "ipython",
    "version": 3
   },
   "file_extension": ".py",
   "mimetype": "text/x-python",
   "name": "python",
   "nbconvert_exporter": "python",
   "pygments_lexer": "ipython3",
   "version": "3.7.3"
  }
 },
 "nbformat": 4,
 "nbformat_minor": 2
}
