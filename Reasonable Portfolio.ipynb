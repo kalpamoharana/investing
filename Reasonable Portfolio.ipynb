{
 "cells": [
  {
   "cell_type": "code",
   "execution_count": null,
   "metadata": {
    "scrolled": true
   },
   "outputs": [],
   "source": [
    "import numpy as np\n",
    "import pandas as pd\n",
    "import pandas_datareader as web\n",
    "from datetime import datetime\n",
    "from pandas_datareader._utils import RemoteDataError\n",
    "import requests\n",
    "import json\n",
    "import yfinance as yf"
   ]
  },
  {
   "cell_type": "code",
   "execution_count": null,
   "metadata": {},
   "outputs": [],
   "source": [
    "data=pd.read_csv(\"C:\\\\Users\\\\Kalpa\\\\Documents\\\\PythonFiles\\\\Stocklist.csv\")\n",
    "#data=pd.read_csv(\"C:\\\\Users\\\\Kalpa\\\\Documents\\\\PythonFiles\\\\finalcountdown.csv\")\n",
    "#data=pd.read_csv(\"C:\\\\Users\\\\Kalpa\\\\Documents\\\\PythonFiles\\\\Megacap.csv\")\n",
    "data.head()"
   ]
  },
  {
   "cell_type": "code",
   "execution_count": null,
   "metadata": {},
   "outputs": [],
   "source": [
    "# Pull stock data from Yahoo finance \n",
    "\n",
    "for i in range (len(data)):\n",
    " \n",
    "    stock = web.DataReader(data.loc[i,\"Symbol\"],data_source='yahoo',start='13/4/2015', end='28/4/2020')\n",
    "    detail=yf.Ticker(data.loc[i,\"Symbol\"])\n",
    "    stock['Log_Ret'] = np.log(stock['Close'] / stock['Close'].shift(1))\n",
    "    stock['Volatility1yr']=stock['Log_Ret'].rolling(252).std()\n",
    "    stock['Volatility3yr']=stock['Log_Ret'].rolling(756).std()\n",
    "    stock['1yrAvgRet']=stock['Log_Ret'].rolling(252).mean()\n",
    "    stock['3yrAvgRet']=stock['Log_Ret'].rolling(756).mean()\n",
    "    #Dividend Data\n",
    "    df=detail.get_dividends().to_frame()\n",
    "    #populate data\n",
    "    data.loc[i,\"1yrAvgRet\"]=stock['1yrAvgRet'][-1]\n",
    "    data.loc[i,\"3yrAvgRet\"]=stock['3yrAvgRet'][-1]\n",
    "    data.loc[i,\"1yrDivRet\"]=(1/252)*(df[df.index>\"2019\"].sum()/stock['Close'][-252 if len(stock['Close'])>252 else -len(stock['Close'])])[0]\n",
    "    data.loc[i,\"3yrDivRet\"]=(1/756)*(df[df.index>\"2017\"].sum()/stock['Close'][-756 if len(stock['Close'])>756 else -len(stock['Close'])])[0]\n",
    "    data.loc[i,\"1yrSharpe\"]=((stock['1yrAvgRet'][-1]+data.loc[i,\"1yrDivRet\"])/stock['Volatility1yr'][-1])*np.sqrt(252)\n",
    "    data.loc[i,\"3yrSharpe\"]=((stock['3yrAvgRet'][-1]+data.loc[i,\"3yrDivRet\"])/stock['Volatility3yr'][-1])*np.sqrt(252)\n",
    "    #format in percentage and annualize\n",
    "    data.loc[i,\"1yrAvgRet\"]=\"{:.2f}%\".format(data.loc[i,\"1yrAvgRet\"]*100*252)\n",
    "    data.loc[i,\"3yrAvgRet\"]=\"{:.2f}%\".format(data.loc[i,\"3yrAvgRet\"]*100*252)\n",
    "    data.loc[i,\"1yrDivRet\"]=\"{:.2f}%\".format(data.loc[i,\"1yrDivRet\"]*100*252)\n",
    "    data.loc[i,\"3yrDivRet\"]=\"{:.2f}%\".format(data.loc[i,\"3yrDivRet\"]*100*252)"
   ]
  },
  {
   "cell_type": "code",
   "execution_count": null,
   "metadata": {
    "scrolled": true
   },
   "outputs": [],
   "source": [
    "# find top 30 performers and take intersection. Show only where 1yr avg return> 3yr Avg return\n",
    "k1=pd.merge(data.nlargest(30,'1yrSharpe'),data.nlargest(30,'3yrSharpe')['Symbol'],on='Symbol')\n",
    "k2=data[data['1yrAvgRet']>data['3yrAvgRet']]\n",
    "pd.merge(k1,k2['Symbol'],on='Symbol')"
   ]
  }
 ],
 "metadata": {
  "kernelspec": {
   "display_name": "Python 3",
   "language": "python",
   "name": "python3"
  },
  "language_info": {
   "codemirror_mode": {
    "name": "ipython",
    "version": 3
   },
   "file_extension": ".py",
   "mimetype": "text/x-python",
   "name": "python",
   "nbconvert_exporter": "python",
   "pygments_lexer": "ipython3",
   "version": "3.7.3"
  }
 },
 "nbformat": 4,
 "nbformat_minor": 2
}
